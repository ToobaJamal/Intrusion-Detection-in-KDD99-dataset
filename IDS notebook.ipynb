{
 "cells": [
  {
   "cell_type": "code",
   "execution_count": 27,
   "id": "b72e3675",
   "metadata": {},
   "outputs": [],
   "source": [
    "import pandas as pd\n",
    "import numpy as np\n",
    "import matplotlib\n",
    "import matplotlib.pyplot as plt\n",
    "import seaborn as sns"
   ]
  },
  {
   "cell_type": "code",
   "execution_count": 28,
   "id": "eb9e5fb7",
   "metadata": {},
   "outputs": [],
   "source": [
    "df = pd.read_csv('kddcup99_csv.csv')"
   ]
  },
  {
   "cell_type": "code",
   "execution_count": 29,
   "id": "7566dc49",
   "metadata": {},
   "outputs": [
    {
     "data": {
      "text/plain": [
       "(494020, 42)"
      ]
     },
     "execution_count": 29,
     "metadata": {},
     "output_type": "execute_result"
    }
   ],
   "source": [
    "df.shape"
   ]
  },
  {
   "cell_type": "code",
   "execution_count": 30,
   "id": "1a2f6881",
   "metadata": {},
   "outputs": [
    {
     "data": {
      "text/plain": [
       "(145585, 42)"
      ]
     },
     "execution_count": 30,
     "metadata": {},
     "output_type": "execute_result"
    }
   ],
   "source": [
    "df.drop_duplicates(keep= 'first', inplace=True)\n",
    "df.shape"
   ]
  },
  {
   "cell_type": "code",
   "execution_count": 31,
   "id": "f098a875",
   "metadata": {},
   "outputs": [
    {
     "data": {
      "text/plain": [
       "Index(['duration', 'protocol_type', 'service', 'flag', 'src_bytes',\n",
       "       'dst_bytes', 'land', 'wrong_fragment', 'urgent', 'hot',\n",
       "       'num_failed_logins', 'logged_in', 'lnum_compromised', 'lroot_shell',\n",
       "       'lsu_attempted', 'lnum_root', 'lnum_file_creations', 'lnum_shells',\n",
       "       'lnum_access_files', 'lnum_outbound_cmds', 'is_host_login',\n",
       "       'is_guest_login', 'count', 'srv_count', 'serror_rate',\n",
       "       'srv_serror_rate', 'rerror_rate', 'srv_rerror_rate', 'same_srv_rate',\n",
       "       'diff_srv_rate', 'srv_diff_host_rate', 'dst_host_count',\n",
       "       'dst_host_srv_count', 'dst_host_same_srv_rate',\n",
       "       'dst_host_diff_srv_rate', 'dst_host_same_src_port_rate',\n",
       "       'dst_host_srv_diff_host_rate', 'dst_host_serror_rate',\n",
       "       'dst_host_srv_serror_rate', 'dst_host_rerror_rate',\n",
       "       'dst_host_srv_rerror_rate', 'label'],\n",
       "      dtype='object')"
      ]
     },
     "execution_count": 31,
     "metadata": {},
     "output_type": "execute_result"
    }
   ],
   "source": [
    "df.columns"
   ]
  },
  {
   "cell_type": "code",
   "execution_count": 32,
   "id": "d59fbb93",
   "metadata": {},
   "outputs": [
    {
     "name": "stdout",
     "output_type": "stream",
     "text": [
      "<class 'pandas.core.frame.DataFrame'>\n",
      "Int64Index: 145585 entries, 0 to 494019\n",
      "Data columns (total 42 columns):\n",
      " #   Column                       Non-Null Count   Dtype  \n",
      "---  ------                       --------------   -----  \n",
      " 0   duration                     145585 non-null  int64  \n",
      " 1   protocol_type                145585 non-null  object \n",
      " 2   service                      145585 non-null  object \n",
      " 3   flag                         145585 non-null  object \n",
      " 4   src_bytes                    145585 non-null  int64  \n",
      " 5   dst_bytes                    145585 non-null  int64  \n",
      " 6   land                         145585 non-null  int64  \n",
      " 7   wrong_fragment               145585 non-null  int64  \n",
      " 8   urgent                       145585 non-null  int64  \n",
      " 9   hot                          145585 non-null  int64  \n",
      " 10  num_failed_logins            145585 non-null  int64  \n",
      " 11  logged_in                    145585 non-null  int64  \n",
      " 12  lnum_compromised             145585 non-null  int64  \n",
      " 13  lroot_shell                  145585 non-null  int64  \n",
      " 14  lsu_attempted                145585 non-null  int64  \n",
      " 15  lnum_root                    145585 non-null  int64  \n",
      " 16  lnum_file_creations          145585 non-null  int64  \n",
      " 17  lnum_shells                  145585 non-null  int64  \n",
      " 18  lnum_access_files            145585 non-null  int64  \n",
      " 19  lnum_outbound_cmds           145585 non-null  int64  \n",
      " 20  is_host_login                145585 non-null  int64  \n",
      " 21  is_guest_login               145585 non-null  int64  \n",
      " 22  count                        145585 non-null  int64  \n",
      " 23  srv_count                    145585 non-null  int64  \n",
      " 24  serror_rate                  145585 non-null  float64\n",
      " 25  srv_serror_rate              145585 non-null  float64\n",
      " 26  rerror_rate                  145585 non-null  float64\n",
      " 27  srv_rerror_rate              145585 non-null  float64\n",
      " 28  same_srv_rate                145585 non-null  float64\n",
      " 29  diff_srv_rate                145585 non-null  float64\n",
      " 30  srv_diff_host_rate           145585 non-null  float64\n",
      " 31  dst_host_count               145585 non-null  int64  \n",
      " 32  dst_host_srv_count           145585 non-null  int64  \n",
      " 33  dst_host_same_srv_rate       145585 non-null  float64\n",
      " 34  dst_host_diff_srv_rate       145585 non-null  float64\n",
      " 35  dst_host_same_src_port_rate  145585 non-null  float64\n",
      " 36  dst_host_srv_diff_host_rate  145585 non-null  float64\n",
      " 37  dst_host_serror_rate         145585 non-null  float64\n",
      " 38  dst_host_srv_serror_rate     145585 non-null  float64\n",
      " 39  dst_host_rerror_rate         145585 non-null  float64\n",
      " 40  dst_host_srv_rerror_rate     145585 non-null  float64\n",
      " 41  label                        145585 non-null  object \n",
      "dtypes: float64(15), int64(23), object(4)\n",
      "memory usage: 47.8+ MB\n"
     ]
    }
   ],
   "source": [
    "df.info()"
   ]
  },
  {
   "cell_type": "code",
   "execution_count": 33,
   "id": "fb489659",
   "metadata": {},
   "outputs": [],
   "source": [
    "input_cols = list(df.columns)[1:-1]\n",
    "target_col = 'label'\n",
    "numeric_cols = df.select_dtypes(include=np.number).columns.tolist()[:-1]"
   ]
  },
  {
   "cell_type": "code",
   "execution_count": 34,
   "id": "9369a874",
   "metadata": {},
   "outputs": [],
   "source": [
    "from sklearn.preprocessing import MinMaxScaler\n",
    "scaler = MinMaxScaler()\n",
    "scaler.fit(df[numeric_cols])\n",
    "df[numeric_cols] = scaler.transform(df[numeric_cols])"
   ]
  },
  {
   "cell_type": "code",
   "execution_count": 35,
   "id": "00d1c21a",
   "metadata": {},
   "outputs": [],
   "source": [
    "from sklearn.preprocessing import LabelEncoder,normalize"
   ]
  },
  {
   "cell_type": "code",
   "execution_count": 36,
   "id": "6e506aab",
   "metadata": {},
   "outputs": [],
   "source": [
    "le = LabelEncoder()\n",
    "\n",
    "target = df['label']\n",
    "df['label'] = le.fit_transform(target)\n",
    "df['protocol_type'] = le.fit_transform(df['protocol_type'])\n",
    "df['service'] = le.fit_transform(df['service'])\n",
    "df['flag'] = le.fit_transform(df['flag'])\n"
   ]
  },
  {
   "cell_type": "code",
   "execution_count": 37,
   "id": "1c420f94",
   "metadata": {},
   "outputs": [
    {
     "data": {
      "text/html": [
       "<div>\n",
       "<style scoped>\n",
       "    .dataframe tbody tr th:only-of-type {\n",
       "        vertical-align: middle;\n",
       "    }\n",
       "\n",
       "    .dataframe tbody tr th {\n",
       "        vertical-align: top;\n",
       "    }\n",
       "\n",
       "    .dataframe thead th {\n",
       "        text-align: right;\n",
       "    }\n",
       "</style>\n",
       "<table border=\"1\" class=\"dataframe\">\n",
       "  <thead>\n",
       "    <tr style=\"text-align: right;\">\n",
       "      <th></th>\n",
       "      <th>duration</th>\n",
       "      <th>protocol_type</th>\n",
       "      <th>service</th>\n",
       "      <th>flag</th>\n",
       "      <th>src_bytes</th>\n",
       "      <th>dst_bytes</th>\n",
       "      <th>land</th>\n",
       "      <th>wrong_fragment</th>\n",
       "      <th>urgent</th>\n",
       "      <th>hot</th>\n",
       "      <th>...</th>\n",
       "      <th>dst_host_srv_count</th>\n",
       "      <th>dst_host_same_srv_rate</th>\n",
       "      <th>dst_host_diff_srv_rate</th>\n",
       "      <th>dst_host_same_src_port_rate</th>\n",
       "      <th>dst_host_srv_diff_host_rate</th>\n",
       "      <th>dst_host_serror_rate</th>\n",
       "      <th>dst_host_srv_serror_rate</th>\n",
       "      <th>dst_host_rerror_rate</th>\n",
       "      <th>dst_host_srv_rerror_rate</th>\n",
       "      <th>label</th>\n",
       "    </tr>\n",
       "  </thead>\n",
       "  <tbody>\n",
       "    <tr>\n",
       "      <th>23122</th>\n",
       "      <td>0.0</td>\n",
       "      <td>1</td>\n",
       "      <td>19</td>\n",
       "      <td>9</td>\n",
       "      <td>1.730664e-08</td>\n",
       "      <td>0.000000</td>\n",
       "      <td>0.0</td>\n",
       "      <td>0.000000</td>\n",
       "      <td>0.0</td>\n",
       "      <td>0.0</td>\n",
       "      <td>...</td>\n",
       "      <td>0.039216</td>\n",
       "      <td>0.34</td>\n",
       "      <td>0.17</td>\n",
       "      <td>0.34</td>\n",
       "      <td>0.0</td>\n",
       "      <td>0.0</td>\n",
       "      <td>0.0</td>\n",
       "      <td>0.0</td>\n",
       "      <td>0.0</td>\n",
       "      <td>11</td>\n",
       "    </tr>\n",
       "    <tr>\n",
       "      <th>478535</th>\n",
       "      <td>0.0</td>\n",
       "      <td>1</td>\n",
       "      <td>16</td>\n",
       "      <td>2</td>\n",
       "      <td>0.000000e+00</td>\n",
       "      <td>0.000000</td>\n",
       "      <td>0.0</td>\n",
       "      <td>0.000000</td>\n",
       "      <td>0.0</td>\n",
       "      <td>0.0</td>\n",
       "      <td>...</td>\n",
       "      <td>0.023529</td>\n",
       "      <td>0.02</td>\n",
       "      <td>0.06</td>\n",
       "      <td>0.00</td>\n",
       "      <td>0.0</td>\n",
       "      <td>0.0</td>\n",
       "      <td>0.0</td>\n",
       "      <td>1.0</td>\n",
       "      <td>1.0</td>\n",
       "      <td>9</td>\n",
       "    </tr>\n",
       "    <tr>\n",
       "      <th>87429</th>\n",
       "      <td>0.0</td>\n",
       "      <td>1</td>\n",
       "      <td>22</td>\n",
       "      <td>9</td>\n",
       "      <td>3.273839e-07</td>\n",
       "      <td>0.000127</td>\n",
       "      <td>0.0</td>\n",
       "      <td>0.000000</td>\n",
       "      <td>0.0</td>\n",
       "      <td>0.0</td>\n",
       "      <td>...</td>\n",
       "      <td>1.000000</td>\n",
       "      <td>1.00</td>\n",
       "      <td>0.00</td>\n",
       "      <td>0.00</td>\n",
       "      <td>0.0</td>\n",
       "      <td>0.0</td>\n",
       "      <td>0.0</td>\n",
       "      <td>0.0</td>\n",
       "      <td>0.0</td>\n",
       "      <td>11</td>\n",
       "    </tr>\n",
       "    <tr>\n",
       "      <th>15793</th>\n",
       "      <td>0.0</td>\n",
       "      <td>0</td>\n",
       "      <td>14</td>\n",
       "      <td>9</td>\n",
       "      <td>2.134485e-06</td>\n",
       "      <td>0.000000</td>\n",
       "      <td>0.0</td>\n",
       "      <td>0.333333</td>\n",
       "      <td>0.0</td>\n",
       "      <td>0.0</td>\n",
       "      <td>...</td>\n",
       "      <td>0.039216</td>\n",
       "      <td>0.11</td>\n",
       "      <td>0.04</td>\n",
       "      <td>0.11</td>\n",
       "      <td>0.0</td>\n",
       "      <td>0.0</td>\n",
       "      <td>0.0</td>\n",
       "      <td>0.0</td>\n",
       "      <td>0.0</td>\n",
       "      <td>14</td>\n",
       "    </tr>\n",
       "    <tr>\n",
       "      <th>352741</th>\n",
       "      <td>0.0</td>\n",
       "      <td>1</td>\n",
       "      <td>45</td>\n",
       "      <td>5</td>\n",
       "      <td>0.000000e+00</td>\n",
       "      <td>0.000000</td>\n",
       "      <td>0.0</td>\n",
       "      <td>0.000000</td>\n",
       "      <td>0.0</td>\n",
       "      <td>0.0</td>\n",
       "      <td>...</td>\n",
       "      <td>0.074510</td>\n",
       "      <td>0.07</td>\n",
       "      <td>0.08</td>\n",
       "      <td>0.00</td>\n",
       "      <td>0.0</td>\n",
       "      <td>1.0</td>\n",
       "      <td>1.0</td>\n",
       "      <td>0.0</td>\n",
       "      <td>0.0</td>\n",
       "      <td>9</td>\n",
       "    </tr>\n",
       "  </tbody>\n",
       "</table>\n",
       "<p>5 rows × 42 columns</p>\n",
       "</div>"
      ],
      "text/plain": [
       "        duration  protocol_type  service  flag     src_bytes  dst_bytes  land  \\\n",
       "23122        0.0              1       19     9  1.730664e-08   0.000000   0.0   \n",
       "478535       0.0              1       16     2  0.000000e+00   0.000000   0.0   \n",
       "87429        0.0              1       22     9  3.273839e-07   0.000127   0.0   \n",
       "15793        0.0              0       14     9  2.134485e-06   0.000000   0.0   \n",
       "352741       0.0              1       45     5  0.000000e+00   0.000000   0.0   \n",
       "\n",
       "        wrong_fragment  urgent  hot  ...  dst_host_srv_count  \\\n",
       "23122         0.000000     0.0  0.0  ...            0.039216   \n",
       "478535        0.000000     0.0  0.0  ...            0.023529   \n",
       "87429         0.000000     0.0  0.0  ...            1.000000   \n",
       "15793         0.333333     0.0  0.0  ...            0.039216   \n",
       "352741        0.000000     0.0  0.0  ...            0.074510   \n",
       "\n",
       "        dst_host_same_srv_rate  dst_host_diff_srv_rate  \\\n",
       "23122                     0.34                    0.17   \n",
       "478535                    0.02                    0.06   \n",
       "87429                     1.00                    0.00   \n",
       "15793                     0.11                    0.04   \n",
       "352741                    0.07                    0.08   \n",
       "\n",
       "        dst_host_same_src_port_rate  dst_host_srv_diff_host_rate  \\\n",
       "23122                          0.34                          0.0   \n",
       "478535                         0.00                          0.0   \n",
       "87429                          0.00                          0.0   \n",
       "15793                          0.11                          0.0   \n",
       "352741                         0.00                          0.0   \n",
       "\n",
       "        dst_host_serror_rate  dst_host_srv_serror_rate  dst_host_rerror_rate  \\\n",
       "23122                    0.0                       0.0                   0.0   \n",
       "478535                   0.0                       0.0                   1.0   \n",
       "87429                    0.0                       0.0                   0.0   \n",
       "15793                    0.0                       0.0                   0.0   \n",
       "352741                   1.0                       1.0                   0.0   \n",
       "\n",
       "        dst_host_srv_rerror_rate  label  \n",
       "23122                        0.0     11  \n",
       "478535                       1.0      9  \n",
       "87429                        0.0     11  \n",
       "15793                        0.0     14  \n",
       "352741                       0.0      9  \n",
       "\n",
       "[5 rows x 42 columns]"
      ]
     },
     "execution_count": 37,
     "metadata": {},
     "output_type": "execute_result"
    }
   ],
   "source": [
    "df.sample(5)"
   ]
  },
  {
   "cell_type": "code",
   "execution_count": 38,
   "id": "24ce0227",
   "metadata": {},
   "outputs": [
    {
     "name": "stdout",
     "output_type": "stream",
     "text": [
      "(101909, 42)\n",
      "(43676, 42)\n"
     ]
    }
   ],
   "source": [
    "from sklearn.model_selection import train_test_split\n",
    "train_df, test_df = train_test_split(df, test_size=0.3, random_state=42)\n",
    "print(train_df.shape)\n",
    "print(test_df.shape)"
   ]
  },
  {
   "cell_type": "code",
   "execution_count": 39,
   "id": "430260f2",
   "metadata": {},
   "outputs": [],
   "source": [
    "train_inputs = train_df[input_cols].copy()\n",
    "train_targets = train_df[target_col].copy()\n",
    "test_inputs = test_df[input_cols].copy()\n",
    "test_targets = test_df[target_col].copy()"
   ]
  },
  {
   "cell_type": "code",
   "execution_count": 40,
   "id": "3acb072c",
   "metadata": {},
   "outputs": [
    {
     "name": "stdout",
     "output_type": "stream",
     "text": [
      "Index(['serror_rate', 'same_srv_rate', 'diff_srv_rate',\n",
      "       'dst_host_diff_srv_rate'],\n",
      "      dtype='object')\n",
      "4\n"
     ]
    }
   ],
   "source": [
    "from sklearn.ensemble import RandomForestClassifier\n",
    "from sklearn.feature_selection import SelectFromModel\n",
    "sel = SelectFromModel(RandomForestClassifier(n_estimators = 5, random_state=42))\n",
    "sel.fit(train_inputs, train_targets)\n",
    "selected_feat = train_inputs.columns[(sel.get_support())]\n",
    "print(selected_feat)\n",
    "print(len(selected_feat))"
   ]
  },
  {
   "cell_type": "code",
   "execution_count": 41,
   "id": "f520c216",
   "metadata": {},
   "outputs": [
    {
     "data": {
      "text/plain": [
       "<AxesSubplot:>"
      ]
     },
     "execution_count": 41,
     "metadata": {},
     "output_type": "execute_result"
    },
    {
     "data": {
      "image/png": "[encoded data removed]",
      "text/plain": [
       "<Figure size 432x288 with 1 Axes>"
      ]
     },
     "metadata": {
      "needs_background": "light"
     },
     "output_type": "display_data"
    }
   ],
   "source": [
    "model = RandomForestClassifier()\n",
    "model.fit(train_inputs, train_targets)\n",
    "(pd.Series(model.feature_importances_, index=train_inputs.columns)\n",
    "   .nlargest(15)\n",
    "   .plot(kind='barh')) "
   ]
  },
  {
   "cell_type": "code",
   "execution_count": 42,
   "id": "26295f75",
   "metadata": {},
   "outputs": [],
   "source": [
    "from sklearn.ensemble import RandomForestClassifier\n",
    "rf = RandomForestClassifier(n_estimators = 1000, random_state = 42)\n",
    "rf.fit(train_inputs[selected_feat], train_targets);"
   ]
  },
  {
   "cell_type": "code",
   "execution_count": 43,
   "id": "3a144050",
   "metadata": {},
   "outputs": [],
   "source": [
    "preds_rf = rf.predict(test_inputs[selected_feat])"
   ]
  },
  {
   "cell_type": "code",
   "execution_count": 44,
   "id": "f4b4541c",
   "metadata": {},
   "outputs": [
    {
     "data": {
      "text/plain": [
       "0.9666865097536405"
      ]
     },
     "execution_count": 44,
     "metadata": {},
     "output_type": "execute_result"
    }
   ],
   "source": [
    "from sklearn.metrics import accuracy_score\n",
    "score_rf = accuracy_score(test_targets, preds_rf)\n",
    "score_rf"
   ]
  },
  {
   "cell_type": "code",
   "execution_count": 45,
   "id": "8bfd8dd7",
   "metadata": {},
   "outputs": [],
   "source": [
    "from sklearn.tree import DecisionTreeClassifier\n",
    "dc = DecisionTreeClassifier()\n",
    "dc.fit(train_inputs[selected_feat], train_targets);"
   ]
  },
  {
   "cell_type": "code",
   "execution_count": 46,
   "id": "f0ce14f7",
   "metadata": {},
   "outputs": [],
   "source": [
    "preds_dc = dc.predict(test_inputs[selected_feat])"
   ]
  },
  {
   "cell_type": "code",
   "execution_count": 47,
   "id": "4546a3c8",
   "metadata": {},
   "outputs": [
    {
     "data": {
      "text/plain": [
       "0.966434655188204"
      ]
     },
     "execution_count": 47,
     "metadata": {},
     "output_type": "execute_result"
    }
   ],
   "source": [
    "score_dc = accuracy_score(test_targets, preds_dc)\n",
    "score_dc"
   ]
  },
  {
   "cell_type": "code",
   "execution_count": 48,
   "id": "a07e423f",
   "metadata": {},
   "outputs": [],
   "source": [
    "rf_1 = RandomForestClassifier(n_estimators = 1000, random_state = 42)\n",
    "rf_1.fit(train_inputs[[\"diff_srv_rate\", \"same_srv_rate\", \"dst_host_same_srv_rate\", \"flag\", \"count\", \"dst_host_srv_count\", \"dst_host_srv_serror_rate\"]], train_targets);"
   ]
  },
  {
   "cell_type": "code",
   "execution_count": 49,
   "id": "fc275aca",
   "metadata": {},
   "outputs": [
    {
     "data": {
      "text/plain": [
       "0.9765546295448301"
      ]
     },
     "execution_count": 49,
     "metadata": {},
     "output_type": "execute_result"
    }
   ],
   "source": [
    "preds_rf_1 = rf_1.predict(test_inputs[[\"diff_srv_rate\", \"same_srv_rate\", \"dst_host_same_srv_rate\", \"flag\", \"count\", \"dst_host_srv_count\", \"dst_host_srv_serror_rate\"]])\n",
    "score_rf_1 = accuracy_score(test_targets, preds_rf_1)\n",
    "score_rf_1"
   ]
  },
  {
   "cell_type": "code",
   "execution_count": 50,
   "id": "8f8675c7",
   "metadata": {},
   "outputs": [],
   "source": [
    "dc_1 = DecisionTreeClassifier()\n",
    "dc_1.fit(train_inputs[[\"diff_srv_rate\", \"same_srv_rate\", \"dst_host_same_srv_rate\", \"flag\", \"count\", \"dst_host_srv_count\", \"dst_host_srv_serror_rate\"]], train_targets);"
   ]
  },
  {
   "cell_type": "code",
   "execution_count": 51,
   "id": "fed1eb05",
   "metadata": {},
   "outputs": [
    {
     "data": {
      "text/plain": [
       "0.9765546295448301"
      ]
     },
     "execution_count": 51,
     "metadata": {},
     "output_type": "execute_result"
    }
   ],
   "source": [
    "preds_dc_1 = dc_1.predict(test_inputs[[\"diff_srv_rate\", \"same_srv_rate\", \"dst_host_same_srv_rate\", \"flag\", \"count\", \"dst_host_srv_count\", \"dst_host_srv_serror_rate\"]])\n",
    "score_dc_1 = accuracy_score(test_targets, preds_rf_1)\n",
    "score_dc_1"
   ]
  },
  {
   "cell_type": "code",
   "execution_count": 53,
   "id": "fd0e209e",
   "metadata": {},
   "outputs": [],
   "source": [
    "from sklearn.neighbors import KNeighborsClassifier\n"
   ]
  },
  {
   "cell_type": "code",
   "execution_count": 54,
   "id": "ec5dde37",
   "metadata": {},
   "outputs": [
    {
     "data": {
      "text/plain": [
       "0.9661599047531825"
      ]
     },
     "execution_count": 54,
     "metadata": {},
     "output_type": "execute_result"
    }
   ],
   "source": [
    "knn = KNeighborsClassifier(n_neighbors=7)\n",
    "knn.fit(train_inputs[selected_feat], train_targets)\n",
    "preds_knn = knn.predict(test_inputs[selected_feat])\n",
    "score_knn = accuracy_score(test_targets, preds_knn)\n",
    "score_knn"
   ]
  },
  {
   "cell_type": "code",
   "execution_count": 56,
   "id": "77e3ca69",
   "metadata": {},
   "outputs": [
    {
     "data": {
      "text/plain": [
       "0.9764401501969044"
      ]
     },
     "execution_count": 56,
     "metadata": {},
     "output_type": "execute_result"
    }
   ],
   "source": [
    "knn_1 = KNeighborsClassifier(n_neighbors=7)\n",
    "knn_1.fit(train_inputs[[\"diff_srv_rate\", \"same_srv_rate\", \"dst_host_same_srv_rate\", \"flag\", \"count\", \"dst_host_srv_count\", \"dst_host_srv_serror_rate\"]], train_targets)\n",
    "preds_knn_1 = knn_1.predict(test_inputs[[\"diff_srv_rate\", \"same_srv_rate\", \"dst_host_same_srv_rate\", \"flag\", \"count\", \"dst_host_srv_count\", \"dst_host_srv_serror_rate\"]])\n",
    "score_knn_1 = accuracy_score(test_targets, preds_knn_1)\n",
    "score_knn_1"
   ]
  },
  {
   "cell_type": "code",
   "execution_count": 57,
   "id": "8aad159e",
   "metadata": {},
   "outputs": [
    {
     "data": {
      "text/plain": [
       "0.9764172543273194"
      ]
     },
     "execution_count": 57,
     "metadata": {},
     "output_type": "execute_result"
    }
   ],
   "source": [
    "knn_2 = KNeighborsClassifier(n_neighbors=15)\n",
    "knn_2.fit(train_inputs[[\"diff_srv_rate\", \"same_srv_rate\", \"dst_host_same_srv_rate\", \"flag\", \"count\", \"dst_host_srv_count\", \"dst_host_srv_serror_rate\"]], train_targets)\n",
    "preds_knn_2 = knn_2.predict(test_inputs[[\"diff_srv_rate\", \"same_srv_rate\", \"dst_host_same_srv_rate\", \"flag\", \"count\", \"dst_host_srv_count\", \"dst_host_srv_serror_rate\"]])\n",
    "score_knn_2 = accuracy_score(test_targets, preds_knn_2)\n",
    "score_knn_2"
   ]
  },
  {
   "cell_type": "code",
   "execution_count": 59,
   "id": "b53bffcc",
   "metadata": {},
   "outputs": [
    {
     "data": {
      "text/plain": [
       "0.9764401501969044"
      ]
     },
     "execution_count": 59,
     "metadata": {},
     "output_type": "execute_result"
    }
   ],
   "source": [
    "knn_2 = KNeighborsClassifier(n_neighbors=3)\n",
    "knn_2.fit(train_inputs[[\"diff_srv_rate\", \"same_srv_rate\", \"dst_host_same_srv_rate\", \"flag\", \"count\", \"dst_host_srv_count\", \"dst_host_srv_serror_rate\"]], train_targets)\n",
    "preds_knn_2 = knn_1.predict(test_inputs[[\"diff_srv_rate\", \"same_srv_rate\", \"dst_host_same_srv_rate\", \"flag\", \"count\", \"dst_host_srv_count\", \"dst_host_srv_serror_rate\"]])\n",
    "score_knn_2 = accuracy_score(test_targets, preds_knn_2)\n",
    "score_knn_2"
   ]
  },
  {
   "cell_type": "code",
   "execution_count": null,
   "id": "b5c7cf9d",
   "metadata": {},
   "outputs": [],
   "source": []
  }
 ],
 "metadata": {
  "kernelspec": {
   "display_name": "Python 3",
   "language": "python",
   "name": "python3"
  },
  "language_info": {
   "codemirror_mode": {
    "name": "ipython",
    "version": 3
   },
   "file_extension": ".py",
   "mimetype": "text/x-python",
   "name": "python",
   "nbconvert_exporter": "python",
   "pygments_lexer": "ipython3",
   "version": "3.8.8"
  }
 },
 "nbformat": 4,
 "nbformat_minor": 5
}
